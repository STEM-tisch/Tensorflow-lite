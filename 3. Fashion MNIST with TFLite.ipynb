{
  "nbformat": 4,
  "nbformat_minor": 0,
  "metadata": {
    "colab": {
      "name": "3. Fashion MNIST with TFLite.ipynb",
      "provenance": [],
      "toc_visible": true,
      "authorship_tag": "ABX9TyNmNtAu0J5ASoh8uxiwCzQw",
      "include_colab_link": true
    },
    "kernelspec": {
      "name": "python3",
      "display_name": "Python 3"
    }
  },
  "cells": [
    {
      "cell_type": "markdown",
      "metadata": {
        "id": "view-in-github",
        "colab_type": "text"
      },
      "source": [
        "<a href=\"https://colab.research.google.com/github/STEM-tisch/TensorFlow-Lite/blob/master/3.%20Fashion%20MNIST%20with%20TFLite.ipynb\" target=\"_parent\"><img src=\"https://colab.research.google.com/assets/colab-badge.svg\" alt=\"Open In Colab\"/></a>"
      ]
    },
    {
      "cell_type": "code",
      "metadata": {
        "id": "iBs_KZECdTfc",
        "colab_type": "code",
        "colab": {}
      },
      "source": [
        ""
      ],
      "execution_count": 0,
      "outputs": []
    },
    {
      "cell_type": "markdown",
      "metadata": {
        "id": "ty606jzDdUAe",
        "colab_type": "text"
      },
      "source": [
        "### Fashion MNIST Data set\n",
        "Load the data set using TF dataset"
      ]
    },
    {
      "cell_type": "code",
      "metadata": {
        "id": "rn99E47YdYJ2",
        "colab_type": "code",
        "colab": {}
      },
      "source": [
        "import tensorflow as tf\n",
        "import matplotlib.pyplot as plt\n",
        "import tensorflow_datasets as tfds\n"
      ],
      "execution_count": 0,
      "outputs": []
    },
    {
      "cell_type": "code",
      "metadata": {
        "id": "UYOnnnSQdjlu",
        "colab_type": "code",
        "colab": {}
      },
      "source": [
        "tfds.disable_progress_bar()"
      ],
      "execution_count": 0,
      "outputs": []
    },
    {
      "cell_type": "code",
      "metadata": {
        "id": "MSjPmrcrducX",
        "colab_type": "code",
        "colab": {
          "base_uri": "https://localhost:8080/",
          "height": 85
        },
        "outputId": "bd5e2bd5-0e2c-4bb2-8301-d0bb81f5a3eb"
      },
      "source": [
        "# Load the data set into train, validation & test with 80%, 10% and 10%\n",
        "\n",
        "(train_images, valid_images, test_images), info = tfds.load(\"fashion_mnist\", with_info=True, as_supervised=True, split=[\"train[:80%]\", \"train[80%:90%]\", \"train[90%:]\"])\n",
        "\n"
      ],
      "execution_count": 3,
      "outputs": [
        {
          "output_type": "stream",
          "text": [
            "\u001b[1mDownloading and preparing dataset fashion_mnist/3.0.0 (download: 29.45 MiB, generated: Unknown size, total: 29.45 MiB) to /root/tensorflow_datasets/fashion_mnist/3.0.0...\u001b[0m\n",
            "Shuffling and writing examples to /root/tensorflow_datasets/fashion_mnist/3.0.0.incomplete1L11FI/fashion_mnist-train.tfrecord\n",
            "Shuffling and writing examples to /root/tensorflow_datasets/fashion_mnist/3.0.0.incomplete1L11FI/fashion_mnist-test.tfrecord\n",
            "\u001b[1mDataset fashion_mnist downloaded and prepared to /root/tensorflow_datasets/fashion_mnist/3.0.0. Subsequent calls will reuse this data.\u001b[0m\n"
          ],
          "name": "stdout"
        }
      ]
    },
    {
      "cell_type": "code",
      "metadata": {
        "id": "sC1UUfcmeNAm",
        "colab_type": "code",
        "colab": {
          "base_uri": "https://localhost:8080/",
          "height": 51
        },
        "outputId": "976671e7-84d4-4e7e-bb9b-0870633e3ba3"
      },
      "source": [
        "num_images = info.splits[\"train\"].num_examples\n",
        "num_classes = info.features[\"label\"].num_classes\n",
        "\n",
        "print(num_images)\n",
        "print (num_classes)"
      ],
      "execution_count": 34,
      "outputs": [
        {
          "output_type": "stream",
          "text": [
            "60000\n",
            "10\n"
          ],
          "name": "stdout"
        }
      ]
    },
    {
      "cell_type": "code",
      "metadata": {
        "id": "2fvRYwooeq5f",
        "colab_type": "code",
        "colab": {
          "base_uri": "https://localhost:8080/",
          "height": 1000
        },
        "outputId": "a54f2fd4-29c2-4ed4-bea7-45376b05b611"
      },
      "source": [
        "IMAGE_SIZE = 28\n",
        "IMAGE_SHAPE = (28, 28, 1)\n",
        "\n",
        "BATCH_SIZE = 32\n",
        "\n",
        "#Show some images for reference\n",
        "\n",
        "get_img_label = info.features[\"label\"].int2str\n",
        "\n",
        "for image, label in train_images.take(5):\n",
        "  plt.figure()\n",
        "  plt.imshow(tf.squeeze(image), cmap=\"gray\")\n",
        "  plt.title(get_img_label(label))\n"
      ],
      "execution_count": 35,
      "outputs": [
        {
          "output_type": "display_data",
          "data": {
            "image/png": "[encoded data removed]",
            "text/plain": [
              "<Figure size 432x288 with 1 Axes>"
            ]
          },
          "metadata": {
            "tags": [],
            "needs_background": "light"
          }
        },
        {
          "output_type": "display_data",
          "data": {
            "image/png": "[encoded data removed]",
            "text/plain": [
              "<Figure size 432x288 with 1 Axes>"
            ]
          },
          "metadata": {
            "tags": [],
            "needs_background": "light"
          }
        },
        {
          "output_type": "display_data",
          "data": {
            "image/png": "[encoded data removed]",
            "text/plain": [
              "<Figure size 432x288 with 1 Axes>"
            ]
          },
          "metadata": {
            "tags": [],
            "needs_background": "light"
          }
        },
        {
          "output_type": "display_data",
          "data": {
            "image/png": "[encoded data removed]",
            "text/plain": [
              "<Figure size 432x288 with 1 Axes>"
            ]
          },
          "metadata": {
            "tags": [],
            "needs_background": "light"
          }
        },
        {
          "output_type": "display_data",
          "data": {
            "image/png": "[encoded data removed]",
            "text/plain": [
              "<Figure size 432x288 with 1 Axes>"
            ]
          },
          "metadata": {
            "tags": [],
            "needs_background": "light"
          }
        }
      ]
    },
    {
      "cell_type": "code",
      "metadata": {
        "id": "0mROfEnpfNDx",
        "colab_type": "code",
        "colab": {}
      },
      "source": [
        "def format_image(image, label):\n",
        "\n",
        "  image = tf.cast(image, tf.float32)\n",
        "  image = tf.image.resize(image, (28,28)) / 255.0\n",
        "  return image, label\n",
        "\n",
        "train_images = train_images.map(format_image)\n",
        "valid_images = valid_images.map(format_image)\n",
        "test_images = test_images.map(format_image)\n"
      ],
      "execution_count": 0,
      "outputs": []
    },
    {
      "cell_type": "code",
      "metadata": {
        "id": "kK4sOgj9fuJF",
        "colab_type": "code",
        "colab": {
          "base_uri": "https://localhost:8080/",
          "height": 34
        },
        "outputId": "1fe05b70-de4f-47f9-c6ce-cf635a543768"
      },
      "source": [
        "\n",
        "SHUFFLE_SIZE = num_images // 4\n",
        "SHUFFLE_SIZE\n"
      ],
      "execution_count": 37,
      "outputs": [
        {
          "output_type": "execute_result",
          "data": {
            "text/plain": [
              "15000"
            ]
          },
          "metadata": {
            "tags": []
          },
          "execution_count": 37
        }
      ]
    },
    {
      "cell_type": "code",
      "metadata": {
        "id": "rq7iuBNbgaKD",
        "colab_type": "code",
        "colab": {}
      },
      "source": [
        "train_batches = train_images.shuffle(SHUFFLE_SIZE).batch(BATCH_SIZE)\n",
        "valid_batches = valid_images.batch(BATCH_SIZE)\n",
        "test_batches = test_images.batch(1)"
      ],
      "execution_count": 0,
      "outputs": []
    },
    {
      "cell_type": "code",
      "metadata": {
        "id": "06zCzc2Bg0G8",
        "colab_type": "code",
        "colab": {
          "base_uri": "https://localhost:8080/",
          "height": 34
        },
        "outputId": "223b3b04-cf59-423a-da38-0938e8b67b69"
      },
      "source": [
        "for image, label in valid_batches.take(1):\n",
        "  pass\n",
        "image.shape"
      ],
      "execution_count": 42,
      "outputs": [
        {
          "output_type": "execute_result",
          "data": {
            "text/plain": [
              "TensorShape([32, 28, 28, 1])"
            ]
          },
          "metadata": {
            "tags": []
          },
          "execution_count": 42
        }
      ]
    },
    {
      "cell_type": "code",
      "metadata": {
        "id": "aejx3dw1g6u4",
        "colab_type": "code",
        "colab": {}
      },
      "source": [
        ""
      ],
      "execution_count": 0,
      "outputs": []
    },
    {
      "cell_type": "markdown",
      "metadata": {
        "id": "JcgeybwYg_50",
        "colab_type": "text"
      },
      "source": [
        "### Building the Model"
      ]
    },
    {
      "cell_type": "code",
      "metadata": {
        "id": "Sj6kn0GyhBio",
        "colab_type": "code",
        "colab": {}
      },
      "source": [
        "model = tf.keras.models.Sequential()"
      ],
      "execution_count": 0,
      "outputs": []
    },
    {
      "cell_type": "code",
      "metadata": {
        "id": "9GZObIMEhFND",
        "colab_type": "code",
        "colab": {}
      },
      "source": [
        "model.add(tf.keras.layers.Conv2D(64, (3,3), input_shape=(28,28,1), activation=\"relu\"))\n",
        "model.add(tf.keras.layers.MaxPooling2D(2, 2))\n",
        "\n",
        "model.add(tf.keras.layers.Conv2D(32, (3, 3), activation=\"relu\"))\n",
        "model.add(tf.keras.layers.MaxPooling2D(2, 2))\n",
        "\n",
        "\n",
        "model.add(tf.keras.layers.Flatten())\n",
        "\n",
        "#Fully connected Layer\n",
        "model.add(tf.keras.layers.Dense(128, activation=\"relu\"))\n",
        "model.add(tf.keras.layers.Dense(10))"
      ],
      "execution_count": 0,
      "outputs": []
    },
    {
      "cell_type": "code",
      "metadata": {
        "id": "mpXxwcl_ithq",
        "colab_type": "code",
        "colab": {}
      },
      "source": [
        ""
      ],
      "execution_count": 0,
      "outputs": []
    },
    {
      "cell_type": "code",
      "metadata": {
        "id": "PNEhlyfzijbm",
        "colab_type": "code",
        "colab": {
          "base_uri": "https://localhost:8080/",
          "height": 391
        },
        "outputId": "0080aa1e-b9b7-4bf6-c171-acd12b5eaf67"
      },
      "source": [
        "model.summary()"
      ],
      "execution_count": 45,
      "outputs": [
        {
          "output_type": "stream",
          "text": [
            "Model: \"sequential_3\"\n",
            "_________________________________________________________________\n",
            "Layer (type)                 Output Shape              Param #   \n",
            "=================================================================\n",
            "conv2d_7 (Conv2D)            (None, 26, 26, 64)        640       \n",
            "_________________________________________________________________\n",
            "max_pooling2d_6 (MaxPooling2 (None, 13, 13, 64)        0         \n",
            "_________________________________________________________________\n",
            "conv2d_8 (Conv2D)            (None, 11, 11, 32)        18464     \n",
            "_________________________________________________________________\n",
            "max_pooling2d_7 (MaxPooling2 (None, 5, 5, 32)          0         \n",
            "_________________________________________________________________\n",
            "flatten_3 (Flatten)          (None, 800)               0         \n",
            "_________________________________________________________________\n",
            "dense_6 (Dense)              (None, 128)               102528    \n",
            "_________________________________________________________________\n",
            "dense_7 (Dense)              (None, 10)                1290      \n",
            "=================================================================\n",
            "Total params: 122,922\n",
            "Trainable params: 122,922\n",
            "Non-trainable params: 0\n",
            "_________________________________________________________________\n"
          ],
          "name": "stdout"
        }
      ]
    },
    {
      "cell_type": "code",
      "metadata": {
        "id": "LpLRLSzaivZZ",
        "colab_type": "code",
        "colab": {
          "base_uri": "https://localhost:8080/",
          "height": 357
        },
        "outputId": "90a60fd2-f5e0-492e-e607-5e33b888b144"
      },
      "source": [
        "model.compile(loss=tf.keras.losses.SparseCategoricalCrossentropy(from_logits=True), optimizer=tf.keras.optimizers.RMSprop(lr=0.001), metrics=[\"accuracy\"])\n",
        "\n",
        "history = model.fit(train_batches, validation_data=valid_batches, epochs=10, verbose=1)"
      ],
      "execution_count": 47,
      "outputs": [
        {
          "output_type": "stream",
          "text": [
            "Epoch 1/10\n",
            "1500/1500 [==============================] - 64s 42ms/step - loss: 1.2033 - accuracy: 0.5610 - val_loss: 0.7769 - val_accuracy: 0.7092\n",
            "Epoch 2/10\n",
            "1500/1500 [==============================] - 64s 42ms/step - loss: 0.7221 - accuracy: 0.7268 - val_loss: 0.6634 - val_accuracy: 0.7502\n",
            "Epoch 3/10\n",
            "1500/1500 [==============================] - 63s 42ms/step - loss: 0.6457 - accuracy: 0.7564 - val_loss: 0.6200 - val_accuracy: 0.7685\n",
            "Epoch 4/10\n",
            "1500/1500 [==============================] - 64s 42ms/step - loss: 0.5903 - accuracy: 0.7780 - val_loss: 0.5615 - val_accuracy: 0.7883\n",
            "Epoch 5/10\n",
            "1500/1500 [==============================] - 64s 42ms/step - loss: 0.5409 - accuracy: 0.7968 - val_loss: 0.5249 - val_accuracy: 0.8055\n",
            "Epoch 6/10\n",
            "1500/1500 [==============================] - 63s 42ms/step - loss: 0.5034 - accuracy: 0.8107 - val_loss: 0.4625 - val_accuracy: 0.8273\n",
            "Epoch 7/10\n",
            "1500/1500 [==============================] - 62s 42ms/step - loss: 0.4726 - accuracy: 0.8243 - val_loss: 0.4363 - val_accuracy: 0.8385\n",
            "Epoch 8/10\n",
            "1500/1500 [==============================] - 63s 42ms/step - loss: 0.4460 - accuracy: 0.8349 - val_loss: 0.4162 - val_accuracy: 0.8457\n",
            "Epoch 9/10\n",
            "1500/1500 [==============================] - 63s 42ms/step - loss: 0.4232 - accuracy: 0.8443 - val_loss: 0.4036 - val_accuracy: 0.8478\n",
            "Epoch 10/10\n",
            "1500/1500 [==============================] - 63s 42ms/step - loss: 0.4040 - accuracy: 0.8531 - val_loss: 0.4086 - val_accuracy: 0.8452\n"
          ],
          "name": "stdout"
        }
      ]
    },
    {
      "cell_type": "code",
      "metadata": {
        "id": "ew2kBbf9vidJ",
        "colab_type": "code",
        "colab": {}
      },
      "source": [
        ""
      ],
      "execution_count": 0,
      "outputs": []
    }
  ]
}